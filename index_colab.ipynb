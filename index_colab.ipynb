{
  "nbformat": 4,
  "nbformat_minor": 0,
  "metadata": {
    "kernelspec": {
      "display_name": "Python 3",
      "language": "python",
      "name": "python3"
    },
    "language_info": {
      "codemirror_mode": {
        "name": "ipython",
        "version": 3
      },
      "file_extension": ".py",
      "mimetype": "text/x-python",
      "name": "python",
      "nbconvert_exporter": "python",
      "pygments_lexer": "ipython3",
      "version": "3.7.3"
    },
    "colab": {
      "name": "index.ipynb",
      "provenance": [],
      "toc_visible": true
    }
  },
  "cells": [
    {
      "cell_type": "markdown",
      "metadata": {
        "id": "i6ZnsEzSwYJZ"
      },
      "source": [
        "# Word Count with MapReduce - Lab\n",
        "\n",
        "## Introduction\n",
        "\n",
        "Now that we have seen the key map and reduce operators in Spark, and also know when to use transformation and action operators, we can revisit the word count problem we introduced earlier in the section. In this lab, we will read a text corpus into the Spark environment, perform a word count, and try basic NLP ideas to get a good grip on how MapReduce performs. \n",
        "\n",
        "## Objectives\n",
        "\n",
        "In this lab you will:\n",
        "\n",
        "- Apply the map(func) transformation to a given function on all elements of an RDD in different partitions \n",
        "- Apply a map transformation for all elements of an RDD \n",
        "- Compare the difference between a transformation and an action within RDDs \n",
        "- Use collect(), count(), and take() actions to trigger spark transformations \n",
        "- Use filter to select data that meets certain specifications within an RDD \n",
        "- Use Spark and the MapReduce framework to complete a full parallelized word count problem \n",
        "\n",
        "## MapReduce task\n",
        "\n",
        "Here is what our problem looks like:\n",
        "\n",
        "* We have a huge text document\n",
        "* We need to count the number of times each distinct word appears in the document\n",
        "\n",
        "\n",
        "* Sample applications:\n",
        "\n",
        "    * Analyze web server logs to find popular URLs\n",
        "    * Analyze texts for content or style "
      ]
    },
    {
      "cell_type": "code",
      "metadata": {
        "id": "xCzoTTNjPQAO"
      },
      "source": [
        ""
      ],
      "execution_count": null,
      "outputs": []
    },
    {
      "cell_type": "code",
      "metadata": {
        "id": "d-0wgEc5PQUN"
      },
      "source": [
        ""
      ],
      "execution_count": null,
      "outputs": []
    },
    {
      "cell_type": "markdown",
      "metadata": {
        "id": "Xzu3TovwwYJa"
      },
      "source": [
        "## Word Count\n",
        "\n",
        "We will illustrate a MapReduce computation for counting the number of occurrences for each word in a text corpus. In this example, the input file is a repository of documents and each document is an element. We shall count the frequency of stop words for __style identification__ as stop words might have unique features which can potentially describe the author's writing style based on their use of stop words while writing. We shall look at some texts by Shakespeare and Jane Austin following this motivation. \n",
        "\n",
        "MapReduce in PySpark provides a practical and efficient way of achieving this goal as it: \n",
        "\n",
        "* works if the file is too large for memory\n",
        "\n",
        "* works even if the output is too large for memory\n",
        "\n",
        "* is naturally parallelizable\n"
      ]
    },
    {
      "cell_type": "markdown",
      "metadata": {
        "id": "96S5AZ-wwYJb"
      },
      "source": [
        "### MapReduce Framework\n",
        "\n",
        "Here are the steps that we will perform for our problem, under the MapReduce framework:  \n",
        "\n",
        "* Sequentially read a lot of data (text files in this case)\n",
        "\n",
        "\n",
        "* Map:\n",
        "    * Extract something you care about\n",
        "\n",
        "\n",
        "* Group by key: Sort and shuffle\n",
        "\n",
        "\n",
        "* Reduce:\n",
        "    * Aggregate, summarize, filter or transform\n",
        "\n",
        "\n",
        "* Write the result \n",
        "\n",
        "As a reminder, here is what it looks like visually, given the example we used before:\n",
        "![](./images/word_count.png)"
      ]
    },
    {
      "cell_type": "markdown",
      "metadata": {
        "id": "moFoHjcdwYJc"
      },
      "source": [
        "### Initialize SparkContext()\n",
        "\n",
        "- First, import the `pyspark` module into this Python environment and initialize a `SparkContext()` \n",
        "- Initialize a local spark context"
      ]
    },
    {
      "cell_type": "code",
      "metadata": {
        "id": "avQ0lD1twYJd",
        "outputId": "d432e92d-4c5b-429f-fdcc-6dc4896e35e3",
        "colab": {
          "base_uri": "https://localhost:8080/",
          "height": 272
        }
      },
      "source": [
        "# Start a local SparkContext\n",
        "\n",
        "!apt update"
      ],
      "execution_count": 1,
      "outputs": [
        {
          "output_type": "stream",
          "text": [
            "Hit:1 https://cloud.r-project.org/bin/linux/ubuntu bionic-cran40/ InRelease\n",
            "Ign:2 https://developer.download.nvidia.com/compute/cuda/repos/ubuntu1804/x86_64  InRelease\n",
            "Hit:3 http://security.ubuntu.com/ubuntu bionic-security InRelease\n",
            "Ign:4 https://developer.download.nvidia.com/compute/machine-learning/repos/ubuntu1804/x86_64  InRelease\n",
            "Hit:5 https://developer.download.nvidia.com/compute/cuda/repos/ubuntu1804/x86_64  Release\n",
            "Hit:6 https://developer.download.nvidia.com/compute/machine-learning/repos/ubuntu1804/x86_64  Release\n",
            "Hit:7 http://ppa.launchpad.net/c2d4u.team/c2d4u4.0+/ubuntu bionic InRelease\n",
            "Hit:8 http://archive.ubuntu.com/ubuntu bionic InRelease\n",
            "Hit:10 http://archive.ubuntu.com/ubuntu bionic-updates InRelease\n",
            "Hit:12 http://archive.ubuntu.com/ubuntu bionic-backports InRelease\n",
            "Hit:13 http://ppa.launchpad.net/graphics-drivers/ppa/ubuntu bionic InRelease\n",
            "Reading package lists... Done\n",
            "Building dependency tree       \n",
            "Reading state information... Done\n",
            "22 packages can be upgraded. Run 'apt list --upgradable' to see them.\n"
          ],
          "name": "stdout"
        }
      ]
    },
    {
      "cell_type": "code",
      "metadata": {
        "id": "Si6QEExIxAvL"
      },
      "source": [
        "!apt-get install openjdk-8-jdk-headless -qq > /dev/null\n",
        "!wget -q https://downloads.apache.org/spark/spark-2.4.7/spark-2.4.7-bin-hadoop2.7.tgz\n",
        "!tar xf spark-2.4.7-bin-hadoop2.7.tgz\n",
        "!pip install -q findspark"
      ],
      "execution_count": 2,
      "outputs": []
    },
    {
      "cell_type": "code",
      "metadata": {
        "id": "0jS9DiLDxLfO"
      },
      "source": [
        "import os\n",
        "os.environ[\"JAVA_HOME\"] = \"/usr/lib/jvm/java-1.8.0-openjdk-amd64\"\n",
        "os.environ[\"SPARK_HOME\"] = \"/content/spark-2.4.7-bin-hadoop2.7\""
      ],
      "execution_count": 3,
      "outputs": []
    },
    {
      "cell_type": "code",
      "metadata": {
        "id": "JMJLzExcxQR9"
      },
      "source": [
        "import findspark\n",
        "findspark.init()\n",
        "\n",
        "\n",
        "import pyspark\n",
        "sc = pyspark.SparkContext('local[*]')"
      ],
      "execution_count": 4,
      "outputs": []
    },
    {
      "cell_type": "markdown",
      "metadata": {
        "id": "4Z35RDKnwYJh"
      },
      "source": [
        "To test our code, start with a single text file, `'hamlet.txt'`. First, set a file path variable `file` to the location of `'text/hamlet.txt'`. "
      ]
    },
    {
      "cell_type": "code",
      "metadata": {
        "id": "grjk9jpcwYJh"
      },
      "source": [
        "# Set a path variable for data \n",
        "file = 'hamlet.txt'"
      ],
      "execution_count": 5,
      "outputs": []
    },
    {
      "cell_type": "markdown",
      "metadata": {
        "id": "FEFppSOlwYJl"
      },
      "source": [
        "## Read and Split text file contents into RDD - `sc.textFile()`\n",
        "\n",
        "Previously we used parallelization to read an RDD from a Python list. Here we shall read the text file into Spark RDDs by using `sc.textFile()` method for loading the text file into the `lines` RDD. The documentation on RDDs can be found [here!!](https://spark.apache.org/docs/latest/rdd-programming-guide.html)\n",
        "\n",
        "The `textFile(path)` method reads a text file from the HDFS/local file system/any Hadoop supported file system, into the number of partitions specified and returns it as an RDD of strings. In order to view the contents of the RDD, we will use the `RDD.collect()` method since calling the RDD by name will not return the contents, only the object type and relevant information. "
      ]
    },
    {
      "cell_type": "code",
      "metadata": {
        "id": "QqpPgQ1YwYJl",
        "outputId": "4f64918c-dcbf-4956-b684-9c848774f5ef",
        "colab": {
          "base_uri": "https://localhost:8080/",
          "height": 34
        }
      },
      "source": [
        "# Read the text file into an RDD using sc.textFile()\n",
        "lines = sc.textFile(file)\n",
        "type(lines)"
      ],
      "execution_count": 13,
      "outputs": [
        {
          "output_type": "execute_result",
          "data": {
            "text/plain": [
              "pyspark.rdd.RDD"
            ]
          },
          "metadata": {
            "tags": []
          },
          "execution_count": 13
        }
      ]
    },
    {
      "cell_type": "markdown",
      "metadata": {
        "id": "0g-cYXbIwYJo"
      },
      "source": [
        "The text file has been written in a \"line-by-line\" manner into the RDD. We can access any given entry using simple indexing. \n",
        "\n",
        "- Print a few sample lines from the `lines` RDD"
      ]
    },
    {
      "cell_type": "code",
      "metadata": {
        "id": "MomZ2oDNwYJp",
        "outputId": "05f7a9ff-d8b2-494a-b3ab-de9dbd0f86ac",
        "colab": {
          "base_uri": "https://localhost:8080/",
          "height": 34
        }
      },
      "source": [
        "# Code here \n",
        "lines.collect()[:5]"
      ],
      "execution_count": 16,
      "outputs": [
        {
          "output_type": "execute_result",
          "data": {
            "text/plain": [
              "['', '1604', '', '', 'THE TRAGEDY OF HAMLET, PRINCE OF DENMARK']"
            ]
          },
          "metadata": {
            "tags": []
          },
          "execution_count": 16
        }
      ]
    },
    {
      "cell_type": "markdown",
      "metadata": {
        "id": "4RcW8kX9wYJs"
      },
      "source": [
        "Similarly, we can also print the whole document, lines by line. \n",
        "\n",
        "- Print complete Hamlet from the lines RDD"
      ]
    },
    {
      "cell_type": "code",
      "metadata": {
        "scrolled": true,
        "id": "VndZ_b1rwYJs",
        "outputId": "9caefbc6-0107-49c5-b65b-ca24bfc76bb7",
        "colab": {
          "base_uri": "https://localhost:8080/",
          "height": 187
        }
      },
      "source": [
        "# Print the text, line-by-line\n",
        "# This will output the whole of hamlet text, one line at a time. \n",
        "for line in lines.collect()[:10]:\n",
        "  print(line)"
      ],
      "execution_count": 15,
      "outputs": [
        {
          "output_type": "stream",
          "text": [
            "\n",
            "1604\n",
            "\n",
            "\n",
            "THE TRAGEDY OF HAMLET, PRINCE OF DENMARK\n",
            "\n",
            "\n",
            "by William Shakespeare\n",
            "\n",
            "\n"
          ],
          "name": "stdout"
        }
      ]
    },
    {
      "cell_type": "markdown",
      "metadata": {
        "id": "m3KHcIZOwYJw"
      },
      "source": [
        "Great, now that the complete text file is in a `lines` RDD, we can easily use the map function to break it down further into individual words and parallelize it accordingly. \n",
        "\n",
        "__Note: Parallelization is handled by the Spark environment according to available infrastructure and doesn't need any further configuration__.\n",
        "\n",
        "## The MAP function `map(func)`\n",
        "\n",
        "The Map function for this example uses keys that are of type string (the words) and values that are integers. The Map task reads a document and breaks it into its sequence of words `w1, w2, . . . , wn`. It then makes a sequence of key-value pairs for each word where the word itself is the key and the value is always 1. That is, the output of the Map task for this document is the sequence of key-value pairs as shown below:\n",
        "\n",
        "> `(w1, 1), (w2, 1), . . . ,(wn, 1)`\n",
        "\n",
        "This step performs the following two sub-steps:\n",
        "\n",
        "* A splitting step that takes the input dataset from the source and divides it into smaller subsets \n",
        "* A mapping step that takes those smaller subsets and performs an action or computation on each subset \n",
        "\n",
        "\n",
        "### Spark Mapping functions\n",
        "\n",
        "Previously, we saw that:\n",
        "\n",
        "- `map(func)` returns a new distributed dataset formed by passing each element of the source through a function `func`.\n",
        "\n",
        "- `flatMap(func)` maps each input item to 0 or more output items (so `func` should return a seq rather than a single item).\n",
        "\n",
        "`flatMap()` breaks the output of a lambda function into individual RDD elements (as opposed to map).\n",
        "\n",
        "---\n",
        "\n",
        "* Use `RDD.flatMap()` to split the lines by whitespace and collect into one flat RDD.\n",
        "\n",
        "* The transformation is defined in the lambda expression, where the input `x` is defined as producing the result of `x.split(' ')`.\n",
        "\n",
        "* Use the `RDD.take(n)` method to pick `n` words from the top of the sequence. \n",
        "\n",
        "* Use `flatMap()` to break the output of the lambda function into individual RDD elements. \n"
      ]
    },
    {
      "cell_type": "code",
      "metadata": {
        "id": "aZuQbWIrwYJx",
        "outputId": "17fa22fe-e461-4566-b396-c85e8d4e658f",
        "colab": {
          "base_uri": "https://localhost:8080/",
          "height": 34
        }
      },
      "source": [
        "# split the lines into words based on blanks ' ' and show ten elements from the top \n",
        "flat_lines = lines.flatMap(lambda x: x.split(' '))\n",
        "\n",
        "# Code here \n",
        "flat_lines.take(10)\n",
        "\n",
        "# ['', '1604', '', '', 'THE', 'TRAGEDY', 'OF', 'HAMLET,', 'PRINCE', 'OF']"
      ],
      "execution_count": 17,
      "outputs": [
        {
          "output_type": "execute_result",
          "data": {
            "text/plain": [
              "['', '1604', '', '', 'THE', 'TRAGEDY', 'OF', 'HAMLET,', 'PRINCE', 'OF']"
            ]
          },
          "metadata": {
            "tags": []
          },
          "execution_count": 17
        }
      ]
    },
    {
      "cell_type": "markdown",
      "metadata": {
        "id": "ZI6bZXk5wYJ0"
      },
      "source": [
        "\n",
        "### Create a Tuple as (k,v)\n",
        "\n",
        "- Map each word to a tuple of (word, 1).\n",
        "\n",
        "Map doesn't break up the output of the lambda expression, meaning that the tuples stay intact."
      ]
    },
    {
      "cell_type": "code",
      "metadata": {
        "id": "gSjZj4s-wYJ1",
        "outputId": "16516ece-cb2b-4976-a7e5-3648e664569b",
        "colab": {
          "base_uri": "https://localhost:8080/",
          "height": 34
        }
      },
      "source": [
        "# Use a lambda function with map to add a 1 to each word and output a tuple\n",
        "# (word, 1) - Take ten elements\n",
        "tuples = flat_lines.map(lambda x: (x, 1))\n",
        "tuples.take(10)\n",
        "\n",
        "\n",
        "# Code here \n",
        "type(tuples)"
      ],
      "execution_count": 18,
      "outputs": [
        {
          "output_type": "execute_result",
          "data": {
            "text/plain": [
              "pyspark.rdd.PipelinedRDD"
            ]
          },
          "metadata": {
            "tags": []
          },
          "execution_count": 18
        }
      ]
    },
    {
      "cell_type": "markdown",
      "metadata": {
        "id": "nD3NYsJzwYJ3"
      },
      "source": [
        "### Change the words to lower case to ensure integrity\n",
        "\n",
        "As we can see from the output above, the text contains words in capital as well as lower case. By default, 'THE' and 'the' would be considered two separate words due to case sensitivity. \n",
        "\n",
        "- Modify the map function above to change all the words to lowercase using a `.lower()` inside the lambda function.\n"
      ]
    },
    {
      "cell_type": "code",
      "metadata": {
        "id": "d2L5z1sWwYJ3",
        "outputId": "30e4536d-6276-4f01-8d9b-0fbf0a86bd36",
        "colab": {
          "base_uri": "https://localhost:8080/",
          "height": 187
        }
      },
      "source": [
        "# Change the words in words tuples to lowercase - take 10 elements \n",
        "tuples_lower = tuples.map(lambda x: (x[0].lower(), x[1]))\n",
        "\n",
        "# Code here \n",
        "tuples_lower.take(10)"
      ],
      "execution_count": 19,
      "outputs": [
        {
          "output_type": "execute_result",
          "data": {
            "text/plain": [
              "[('', 1),\n",
              " ('1604', 1),\n",
              " ('', 1),\n",
              " ('', 1),\n",
              " ('the', 1),\n",
              " ('tragedy', 1),\n",
              " ('of', 1),\n",
              " ('hamlet,', 1),\n",
              " ('prince', 1),\n",
              " ('of', 1)]"
            ]
          },
          "metadata": {
            "tags": []
          },
          "execution_count": 19
        }
      ]
    },
    {
      "cell_type": "markdown",
      "metadata": {
        "id": "MZPt2ev7wYJ6"
      },
      "source": [
        "## REDUCE Function\n",
        "The Reduce function’s argument is a pair consisting of a key and its list of associated values as the pairs created above. The output of the Reduce function is a sequence of zero or more key-value pairs. These key-value pairs can be of a type different from those sent from Map tasks to Reduce tasks, but often they are the same type.\n",
        "\n",
        "We will refer to the application of the Reduce function to a single key and its associated list of values as a reducer.\n",
        "\n",
        "![](reduce.png)\n",
        "\n",
        "- Use `RDD.reduceByKey()` to add up all the words. the new (k, v) pairs would have the word as a key and the number of occurrences as a value. \n",
        "\n",
        "Here, the lambda has two arguments (x and y) that are added."
      ]
    },
    {
      "cell_type": "code",
      "metadata": {
        "id": "_7Nd5PNQwYJ7",
        "outputId": "8aa17a9b-dc6f-46e1-d677-c499244ccfd1",
        "colab": {
          "base_uri": "https://localhost:8080/",
          "height": 187
        }
      },
      "source": [
        "# Use reduceByKey with tuplesLCase to add all values under same keys - take 10\n",
        "word_count = tuples_lower.reduceByKey(lambda x,y: x+y)\n",
        "\n",
        "# Code here \n",
        "word_count.take(10)\n"
      ],
      "execution_count": 20,
      "outputs": [
        {
          "output_type": "execute_result",
          "data": {
            "text/plain": [
              "[('', 20383),\n",
              " ('1604', 1),\n",
              " ('tragedy', 1),\n",
              " ('of', 670),\n",
              " ('prince', 2),\n",
              " ('denmark', 10),\n",
              " ('shakespeare', 1),\n",
              " ('dramatis', 1),\n",
              " ('claudius,', 2),\n",
              " ('king', 43)]"
            ]
          },
          "metadata": {
            "tags": []
          },
          "execution_count": 20
        }
      ]
    },
    {
      "cell_type": "markdown",
      "metadata": {
        "id": "v5ZLabPowYJ-"
      },
      "source": [
        "### Filter rare words\n",
        "\n",
        "Following the standard NLP approach, we can add a filtering step to remove all words which appear less than some threshold value, say, with less than 5 occurrences. \n",
        "\n",
        "This can be useful to identify common topics between documents, where very rare words can be misleading. \n",
        "For this step, we can use `RDD.filter(func)` where `func` is a lambda function that filters out any word which appears less than or equal to 5 times. You may also use a separate function to achieve this. \n",
        "\n",
        "- Remove rare words with occurences < 5 using lambda function inside a `.filter()` method "
      ]
    },
    {
      "cell_type": "code",
      "metadata": {
        "id": "yxqgcQlzwYJ-",
        "outputId": "5ee79572-13c9-4a98-b94b-ef2a6b4ba26d",
        "colab": {
          "base_uri": "https://localhost:8080/",
          "height": 867
        }
      },
      "source": [
        "# Remove all rare words with frequency less than 5 - take 10 \n",
        "common = word_count.filter(lambda x: x[1] >= 5)\n",
        "\n",
        "# Code here \n",
        "common.take(50)\n"
      ],
      "execution_count": 21,
      "outputs": [
        {
          "output_type": "execute_result",
          "data": {
            "text/plain": [
              "[('', 20383),\n",
              " ('of', 670),\n",
              " ('denmark', 10),\n",
              " ('king', 43),\n",
              " ('son', 11),\n",
              " ('polonius,', 6),\n",
              " ('horatio,', 15),\n",
              " ('hamlet.', 25),\n",
              " ('courtier.', 7),\n",
              " ('rosencrantz,', 6),\n",
              " ('guildenstern,', 5),\n",
              " ('two', 23),\n",
              " ('fortinbras,', 6),\n",
              " ('queen', 18),\n",
              " ('ophelia,', 12),\n",
              " ('daughter', 8),\n",
              " ('ghost', 9),\n",
              " (\"hamlet's\", 9),\n",
              " ('father.', 8),\n",
              " ('act', 12),\n",
              " ('scene', 23),\n",
              " ('before', 17),\n",
              " ('castle.', 15),\n",
              " ('enter', 69),\n",
              " ('down', 14),\n",
              " ('at', 87),\n",
              " ('his', 302),\n",
              " ('ber.', 19),\n",
              " ('fran.', 8),\n",
              " ('nay,', 22),\n",
              " ('stand', 12),\n",
              " ('long', 12),\n",
              " ('live', 13),\n",
              " ('upon', 53),\n",
              " (\"'tis\", 71),\n",
              " ('now', 54),\n",
              " ('this', 253),\n",
              " ('i', 523),\n",
              " ('am', 54),\n",
              " ('have', 176),\n",
              " ('well,', 21),\n",
              " ('good', 97),\n",
              " ('night.', 7),\n",
              " ('do', 131),\n",
              " ('meet', 5),\n",
              " ('horatio', 8),\n",
              " ('watch,', 6),\n",
              " ('bid', 6),\n",
              " ('them', 43),\n",
              " ('make', 53)]"
            ]
          },
          "metadata": {
            "tags": []
          },
          "execution_count": 21
        }
      ]
    },
    {
      "cell_type": "markdown",
      "metadata": {
        "id": "zwLeatgQwYKB"
      },
      "source": [
        "### List  of stop words\n",
        "\n",
        "Add a filtering step to retain only words included in a list of stop words. \n",
        "\n",
        "Stop words can be useful for recognizing the style of an author. Removing stop words can be useful in recognizing the topic of a document. For stop word removal, we use `RDD.filter(func)` again with a lambda function that uses a list of stop words to extract the key-value pairs for only the words that are present in the stop word list. Use a simple list like the one shown below: \n",
        "\n",
        "> ['', 'the','a','in','of','on','at','for','by','I','you','me'] \n",
        "\n",
        "\n",
        "- Use the stop word list above to count the occurrences of these words in the document\n",
        "- Show the stop word frequency"
      ]
    },
    {
      "cell_type": "code",
      "metadata": {
        "id": "CijdwO9FwYKB",
        "outputId": "4fb0c14d-d176-445d-8c33-a0dafcde16c0",
        "colab": {
          "base_uri": "https://localhost:8080/",
          "height": 204
        }
      },
      "source": [
        "# show stop word frequency in the output\n",
        "stop = ['', 'the','a','in','of','on','at','for','by','I','you','me'] \n",
        "\n",
        "\n",
        "# Code here \n",
        "stop_words = common.filter(lambda x: x[0] in stop)\n",
        "stop_words.collect()\n",
        "\n"
      ],
      "execution_count": 28,
      "outputs": [
        {
          "output_type": "execute_result",
          "data": {
            "text/plain": [
              "[('', 20383),\n",
              " ('of', 670),\n",
              " ('at', 87),\n",
              " ('in', 420),\n",
              " ('the', 1083),\n",
              " ('by', 111),\n",
              " ('a', 540),\n",
              " ('you', 433),\n",
              " ('for', 231),\n",
              " ('me', 144),\n",
              " ('on', 108)]"
            ]
          },
          "metadata": {
            "tags": []
          },
          "execution_count": 28
        }
      ]
    },
    {
      "cell_type": "markdown",
      "metadata": {
        "id": "ikOYbq84wYKE"
      },
      "source": [
        "### List of keep words\n",
        "\n",
        "- Modify the filter operation above to keep all the words found in the text **except** the stop words. "
      ]
    },
    {
      "cell_type": "code",
      "metadata": {
        "scrolled": true,
        "id": "zcCSzBOVwYKF",
        "outputId": "59e1d695-55dd-449f-e6ce-3814fb9bcdbf",
        "colab": {
          "base_uri": "https://localhost:8080/",
          "height": 1000
        }
      },
      "source": [
        "# Modify above filter to show top ten keep words by frequency\n",
        "\n",
        "# show stop word frequency in the output\n",
        "stop = ['', 'the','a','in','of','on','at','for','by','I','you','me'] \n",
        "\n",
        "\n",
        "# Code here \n",
        "go_words = common.filter(lambda x: x[0] not in stop)\n",
        "sorted(list(go_words.collect()), key=lambda x: x[1])\n",
        "\n",
        "\n"
      ],
      "execution_count": 33,
      "outputs": [
        {
          "output_type": "execute_result",
          "data": {
            "text/plain": [
              "[('guildenstern,', 5),\n",
              " ('meet', 5),\n",
              " ('king?', 5),\n",
              " ('known', 5),\n",
              " ('hot', 5),\n",
              " ('air,', 5),\n",
              " ('dare', 5),\n",
              " ('late', 5),\n",
              " ('lost', 5),\n",
              " ('told', 5),\n",
              " (\"is't,\", 5),\n",
              " ('dread', 5),\n",
              " ('toward', 5),\n",
              " ('common', 5),\n",
              " ('throw', 5),\n",
              " ('gentle', 5),\n",
              " ('god!', 5),\n",
              " ('visit', 5),\n",
              " ('point', 5),\n",
              " ('yes,', 5),\n",
              " ('honour', 5),\n",
              " ('dull', 5),\n",
              " ('humbly', 5),\n",
              " ('speech,', 5),\n",
              " ('off.', 5),\n",
              " ('phrase', 5),\n",
              " ('hell,', 5),\n",
              " ('cries', 5),\n",
              " ('hear.', 5),\n",
              " ('shalt', 5),\n",
              " ('fat', 5),\n",
              " ('grave', 5),\n",
              " ('offence', 5),\n",
              " ('too.', 5),\n",
              " ('help', 5),\n",
              " ('shall,', 5),\n",
              " ('out,', 5),\n",
              " ('means,', 5),\n",
              " ('him;', 5),\n",
              " ('gentleman.', 5),\n",
              " (\"in's\", 5),\n",
              " ('truly', 5),\n",
              " ('lack', 5),\n",
              " ('move', 5),\n",
              " ('whereon', 5),\n",
              " ('pass', 5),\n",
              " ('ill', 5),\n",
              " ('sun', 5),\n",
              " ('try', 5),\n",
              " ('four', 5),\n",
              " ('arras', 5),\n",
              " ('save', 5),\n",
              " ('themselves', 5),\n",
              " ('fall', 5),\n",
              " ('mortal', 5),\n",
              " ('turn', 5),\n",
              " ('gentleman', 5),\n",
              " ('water', 5),\n",
              " (\"woo't\", 5),\n",
              " ('nothing.', 5),\n",
              " ('awhile,', 5),\n",
              " ('dead.', 5),\n",
              " ('warlike', 5),\n",
              " ('buried', 5),\n",
              " ('speak!', 5),\n",
              " ('state,', 5),\n",
              " ('blood,', 5),\n",
              " ('coming', 5),\n",
              " ('which,', 5),\n",
              " ('season', 5),\n",
              " ('for,', 5),\n",
              " ('writ', 5),\n",
              " ('note', 5),\n",
              " ('away.', 5),\n",
              " ('rank', 5),\n",
              " ('report', 5),\n",
              " ('horatio!', 5),\n",
              " ('once.', 5),\n",
              " ('knew', 5),\n",
              " ('it?', 5),\n",
              " ('beard', 5),\n",
              " ('ophelia.', 5),\n",
              " ('voice', 5),\n",
              " ('head.', 5),\n",
              " ('place', 5),\n",
              " ('shot', 5),\n",
              " ('enough', 5),\n",
              " (\"man's\", 5),\n",
              " ('think,', 5),\n",
              " ('fashion', 5),\n",
              " ('hour', 5),\n",
              " (\"fortune's\", 5),\n",
              " ('revenge', 5),\n",
              " ('went', 5),\n",
              " ('sudden', 5),\n",
              " ('vile', 5),\n",
              " ('then?', 5),\n",
              " ('under', 5),\n",
              " ('swear.', 5),\n",
              " ('son,', 5),\n",
              " ('over', 5),\n",
              " ('brought', 5),\n",
              " ('welcome', 5),\n",
              " ('herself', 5),\n",
              " ('behind', 5),\n",
              " ('one.', 5),\n",
              " ('bad', 5),\n",
              " (\"'the\", 5),\n",
              " ('black', 5),\n",
              " ('drown', 5),\n",
              " ('conscience', 5),\n",
              " ('joy', 5),\n",
              " ('hope', 5),\n",
              " ('himself.', 5),\n",
              " ('breath', 5),\n",
              " ('too,', 5),\n",
              " ('woe', 5),\n",
              " ('danish', 5),\n",
              " ('eat', 5),\n",
              " ('shame', 5),\n",
              " ('beg', 5),\n",
              " ('drink,', 5),\n",
              " ('alexander', 5),\n",
              " ('polonius,', 6),\n",
              " ('rosencrantz,', 6),\n",
              " ('fortinbras,', 6),\n",
              " ('watch,', 6),\n",
              " ('bid', 6),\n",
              " ('god,', 6),\n",
              " ('work', 6),\n",
              " ('cast', 6),\n",
              " ('state', 6),\n",
              " ('on,', 6),\n",
              " ('ii.', 6),\n",
              " ('eye,', 6),\n",
              " ('laertes?', 6),\n",
              " ('lose', 6),\n",
              " ('wouldst', 6),\n",
              " ('go.', 6),\n",
              " ('tears', 6),\n",
              " (\"mother's\", 6),\n",
              " ('gentlemen,', 6),\n",
              " ('pale', 6),\n",
              " ('for.', 6),\n",
              " ('neither', 6),\n",
              " ('man.', 6),\n",
              " ('now?', 6),\n",
              " ('mean,', 6),\n",
              " ('speak.', 6),\n",
              " ('murther', 6),\n",
              " ('be.', 6),\n",
              " ('wholesome', 6),\n",
              " ('damned', 6),\n",
              " ('him!', 6),\n",
              " ('sword.', 6),\n",
              " ('myself', 6),\n",
              " ('passion', 6),\n",
              " ('letters', 6),\n",
              " ('love.', 6),\n",
              " ('guildenstern', 6),\n",
              " ('round', 6),\n",
              " ('her,', 6),\n",
              " ('fort.', 6),\n",
              " ('only', 6),\n",
              " ('see.', 6),\n",
              " ('1.', 6),\n",
              " ('[exeunt', 6),\n",
              " ('bloody', 6),\n",
              " ('life.', 6),\n",
              " ('quick', 6),\n",
              " ('poison', 6),\n",
              " ('husband', 6),\n",
              " ('sir?', 6),\n",
              " ('honest', 6),\n",
              " ('piece', 6),\n",
              " ('us.', 6),\n",
              " ('down,', 6),\n",
              " (\"t'\", 6),\n",
              " ('away!', 6),\n",
              " ('speak,', 6),\n",
              " ('it!', 6),\n",
              " ('whether', 6),\n",
              " ('time.', 6),\n",
              " ('father,', 6),\n",
              " ('less', 6),\n",
              " ('alone', 6),\n",
              " ('back', 6),\n",
              " ('face', 6),\n",
              " ('eyes,', 6),\n",
              " ('wicked', 6),\n",
              " ('drink', 6),\n",
              " ('day,', 6),\n",
              " ('word', 6),\n",
              " ('hands', 6),\n",
              " ('top', 6),\n",
              " ('fare', 6),\n",
              " ('choice', 6),\n",
              " ('wisdom', 6),\n",
              " ('lies', 6),\n",
              " ('double', 6),\n",
              " ('false', 6),\n",
              " ('tongue', 6),\n",
              " ('light', 6),\n",
              " ('general', 6),\n",
              " ('her.', 6),\n",
              " ('matter.', 6),\n",
              " ('hamlet!', 6),\n",
              " ('friends,', 6),\n",
              " ('indeed.', 6),\n",
              " ('aught', 6),\n",
              " ('whom', 6),\n",
              " ('in.', 6),\n",
              " ('it;', 6),\n",
              " ('hamlet?', 6),\n",
              " ('gone,', 6),\n",
              " ('either', 6),\n",
              " ('[aside', 6),\n",
              " ('devil', 6),\n",
              " ('purpose', 6),\n",
              " ('help,', 6),\n",
              " ('laid', 6),\n",
              " ('courtier.', 7),\n",
              " ('night.', 7),\n",
              " ('ho!', 7),\n",
              " ('welcome,', 7),\n",
              " ('says', 7),\n",
              " ('watch', 7),\n",
              " ('particular', 7),\n",
              " ('there,', 7),\n",
              " ('soft!', 7),\n",
              " ('done,', 7),\n",
              " ('spirit', 7),\n",
              " ('power', 7),\n",
              " (\"brother's\", 7),\n",
              " ('news', 7),\n",
              " ('laertes.', 7),\n",
              " ('father;', 7),\n",
              " (\"king's\", 7),\n",
              " ('again,', 7),\n",
              " ('good.', 7),\n",
              " ('come!', 7),\n",
              " ('understand', 7),\n",
              " ('action', 7),\n",
              " ('sure', 7),\n",
              " ('needs', 7),\n",
              " ('is,', 7),\n",
              " ('he,', 7),\n",
              " ('deed', 7),\n",
              " ('england', 7),\n",
              " ('death.', 7),\n",
              " ('fine', 7),\n",
              " ('denmark.', 7),\n",
              " ('players.', 7),\n",
              " ('friends', 7),\n",
              " ('this.', 7),\n",
              " ('all,', 7),\n",
              " ('break', 7),\n",
              " ('who,', 7),\n",
              " ('memory', 7),\n",
              " ('whole', 7),\n",
              " ('beseech', 7),\n",
              " ('[to', 7),\n",
              " ('fellow', 7),\n",
              " ('that?', 7),\n",
              " ('so?', 7),\n",
              " ('grow', 7),\n",
              " ('takes', 7),\n",
              " ('custom', 7),\n",
              " ('done', 7),\n",
              " ('ho,', 7),\n",
              " ('sword,', 7),\n",
              " ('times', 7),\n",
              " ('receive', 7),\n",
              " ('gives', 7),\n",
              " ('lady,', 7),\n",
              " ('more,', 7),\n",
              " ('noise', 7),\n",
              " ('capt.', 7),\n",
              " ('daughter', 8),\n",
              " ('father.', 8),\n",
              " ('fran.', 8),\n",
              " ('horatio', 8),\n",
              " ('thought', 8),\n",
              " ('walk', 8),\n",
              " ('business', 8),\n",
              " ('mind', 8),\n",
              " ('name', 8),\n",
              " ('both.', 8),\n",
              " ('there.', 8),\n",
              " ('will.', 8),\n",
              " ('them,', 8),\n",
              " ('way', 8),\n",
              " ('said', 8),\n",
              " ('free', 8),\n",
              " ('thee,', 8),\n",
              " ('gave', 8),\n",
              " ('sir;', 8),\n",
              " ('speech', 8),\n",
              " ('lie', 8),\n",
              " ('answer', 8),\n",
              " ('sit', 8),\n",
              " ('fell', 8),\n",
              " ('unto', 8),\n",
              " ('again.', 8),\n",
              " ('stay', 8),\n",
              " ('wherein', 8),\n",
              " ('doubt', 8),\n",
              " ('heart,', 8),\n",
              " ('nature,', 8),\n",
              " ('shows', 8),\n",
              " ('come.', 8),\n",
              " ('more.', 8),\n",
              " ('every', 8),\n",
              " ('remember', 8),\n",
              " ('yourself', 8),\n",
              " ('fit', 8),\n",
              " ('another', 8),\n",
              " ('wilt', 8),\n",
              " (\"here's\", 8),\n",
              " ('age', 8),\n",
              " ('grief', 8),\n",
              " ('sense', 8),\n",
              " ('ghost', 9),\n",
              " (\"hamlet's\", 9),\n",
              " ('again', 9),\n",
              " ('haste', 9),\n",
              " ('further', 9),\n",
              " ('full', 9),\n",
              " ('came', 9),\n",
              " ('best', 9),\n",
              " ('thine', 9),\n",
              " ('grace', 9),\n",
              " ('things', 9),\n",
              " ('excellent', 9),\n",
              " ('none', 9),\n",
              " ('near', 9),\n",
              " ('soul,', 9),\n",
              " ('draw', 9),\n",
              " ('alas,', 9),\n",
              " ('(as', 9),\n",
              " ('lord;', 9),\n",
              " ('ourselves', 9),\n",
              " ('rest', 9),\n",
              " ('three', 9),\n",
              " ('(sings)', 9),\n",
              " ('i.', 9),\n",
              " ('get', 9),\n",
              " ('together', 9),\n",
              " ('norway,', 9),\n",
              " ('through', 9),\n",
              " ('laertes', 9),\n",
              " (\"'twere\", 9),\n",
              " ('seek', 9),\n",
              " ('madam,', 9),\n",
              " ('be,', 9),\n",
              " ('seem', 9),\n",
              " ('foul', 9),\n",
              " ('thee.', 9),\n",
              " ('that.', 9),\n",
              " ('please', 9),\n",
              " ('blood', 9),\n",
              " ('men', 9),\n",
              " ('on.', 9),\n",
              " ('lay', 9),\n",
              " ('will,', 9),\n",
              " ('gertrude,', 9),\n",
              " ('thank', 9),\n",
              " ('mother.', 9),\n",
              " ('denmark', 10),\n",
              " ('mark', 10),\n",
              " ('me?', 10),\n",
              " ('heard', 10),\n",
              " (\"let's\", 10),\n",
              " ('far', 10),\n",
              " ('duty', 10),\n",
              " ('ever', 10),\n",
              " ('ear', 10),\n",
              " ('away', 10),\n",
              " ('virtue', 10),\n",
              " (\"o'\", 10),\n",
              " ('guildenstern.', 10),\n",
              " ('thousand', 10),\n",
              " ('kind', 10),\n",
              " ('same', 10),\n",
              " ('majesty', 10),\n",
              " ('exit', 10),\n",
              " ('almost', 10),\n",
              " ('farewell.', 10),\n",
              " ('reason', 10),\n",
              " ('man,', 10),\n",
              " ('while', 10),\n",
              " ('himself', 10),\n",
              " ('second', 10),\n",
              " ('wind', 10),\n",
              " ('given', 10),\n",
              " (\"he's\", 10),\n",
              " ('you;', 10),\n",
              " ('son', 11),\n",
              " ('horatio.', 11),\n",
              " ('eyes', 11),\n",
              " ('last', 11),\n",
              " ('question', 11),\n",
              " (\"is't\", 11),\n",
              " ('goes', 11),\n",
              " ('other', 11),\n",
              " ('heart', 11),\n",
              " ('death,', 11),\n",
              " ('end', 11),\n",
              " ('cause', 11),\n",
              " ('[exit', 11),\n",
              " (\"e'en\", 11),\n",
              " ('oft', 11),\n",
              " ('being', 11),\n",
              " ('better', 11),\n",
              " (\"what's\", 11),\n",
              " ('mother,', 11),\n",
              " ('body', 11),\n",
              " ('saw', 11),\n",
              " ('all.', 11),\n",
              " ('each', 11),\n",
              " ('day', 11),\n",
              " ('mad', 11),\n",
              " ('ophelia,', 12),\n",
              " ('act', 12),\n",
              " ('stand', 12),\n",
              " ('long', 12),\n",
              " ('once', 12),\n",
              " ('form', 12),\n",
              " ('life,', 12),\n",
              " ('do,', 12),\n",
              " ('room', 12),\n",
              " ('indeed', 12),\n",
              " ('faith,', 12),\n",
              " ('indeed,', 12),\n",
              " ('here,', 12),\n",
              " ('bring', 12),\n",
              " ('sent', 12),\n",
              " ('matter', 12),\n",
              " ('after', 12),\n",
              " ('has', 12),\n",
              " ('know,', 12),\n",
              " ('ere', 12),\n",
              " ('any', 12),\n",
              " ('exeunt.', 12),\n",
              " ('[aside]', 12),\n",
              " ('first', 12),\n",
              " ('this?', 12),\n",
              " ('else', 12),\n",
              " ('youth', 12),\n",
              " ('off', 12),\n",
              " ('madness', 12),\n",
              " ('live', 13),\n",
              " ('you?', 13),\n",
              " ('night', 13),\n",
              " ('fear', 13),\n",
              " ('something', 13),\n",
              " ('true', 13),\n",
              " ('then,', 13),\n",
              " ('means', 13),\n",
              " ('marry,', 13),\n",
              " ('not.', 13),\n",
              " ('thing', 13),\n",
              " ('night,', 13),\n",
              " ('hand', 13),\n",
              " ('still', 13),\n",
              " ('life', 13),\n",
              " ('say,', 13),\n",
              " ('within', 13),\n",
              " ('heaven,', 13),\n",
              " ('lord!', 13),\n",
              " (\"we'll\", 13),\n",
              " ('go,', 13),\n",
              " ('love,', 13),\n",
              " ('rey.', 13),\n",
              " ('other.', 13),\n",
              " ('down', 14),\n",
              " ('earth', 14),\n",
              " (\"o'er\", 14),\n",
              " ('bear', 14),\n",
              " ('dost', 14),\n",
              " ('polonius.', 14),\n",
              " ('mother', 14),\n",
              " ('therefore', 14),\n",
              " ('art', 14),\n",
              " ('fair', 14),\n",
              " ('thoughts', 14),\n",
              " ('words', 14),\n",
              " ('i,', 14),\n",
              " (\"'a\", 14),\n",
              " ('sir.', 14),\n",
              " ('horatio,', 15),\n",
              " ('castle.', 15),\n",
              " ('hast', 15),\n",
              " ('use', 15),\n",
              " ('players', 15),\n",
              " ('us,', 15),\n",
              " ('little', 15),\n",
              " ('about', 15),\n",
              " ('death', 15),\n",
              " ('between', 15),\n",
              " ('since', 15),\n",
              " ('follow', 15),\n",
              " ('them.', 16),\n",
              " ('queen,', 16),\n",
              " ('lord', 16),\n",
              " ('laertes,', 16),\n",
              " ('what,', 16),\n",
              " (\"that's\", 16),\n",
              " ('without', 16),\n",
              " ('nature', 16),\n",
              " ('rosencrantz', 16),\n",
              " ('before', 17),\n",
              " ('exit.', 17),\n",
              " ('seen', 17),\n",
              " ('world', 17),\n",
              " ('young', 17),\n",
              " ('noble', 17),\n",
              " ('dead', 17),\n",
              " ('find', 17),\n",
              " ('not,', 17),\n",
              " ('well.', 17),\n",
              " ('keep', 17),\n",
              " ('many', 17),\n",
              " ('makes', 17),\n",
              " ('queen', 18),\n",
              " ('believe', 18),\n",
              " ('but,', 18),\n",
              " ('head', 18),\n",
              " (\"there's\", 18),\n",
              " (\"father's\", 18),\n",
              " ('play.', 18),\n",
              " ('play', 18),\n",
              " ('ber.', 19),\n",
              " ('so.', 19),\n",
              " ('this,', 19),\n",
              " ('exeunt', 19),\n",
              " ('part', 19),\n",
              " ('comes', 19),\n",
              " ('god', 19),\n",
              " ('old', 19),\n",
              " ('so,', 19),\n",
              " ('nothing', 19),\n",
              " ('king,', 20),\n",
              " ('sweet', 20),\n",
              " ('till', 20),\n",
              " ('poor', 20),\n",
              " ('ghost.', 20),\n",
              " ('and,', 20),\n",
              " ('show', 20),\n",
              " ('well,', 21),\n",
              " ('even', 21),\n",
              " ('leave', 21),\n",
              " ('elsinore.', 21),\n",
              " ('those', 21),\n",
              " ('soul', 21),\n",
              " ('nay,', 22),\n",
              " ('call', 22),\n",
              " ('set', 22),\n",
              " ('heaven', 22),\n",
              " ('itself', 22),\n",
              " ('two', 23),\n",
              " ('scene', 23),\n",
              " ('hear', 23),\n",
              " ('against', 23),\n",
              " ('though', 23),\n",
              " (\"i'\", 23),\n",
              " ('mine', 23),\n",
              " ('both', 24),\n",
              " ('put', 24),\n",
              " ('never', 24),\n",
              " ('great', 24),\n",
              " ('hamlet.', 25),\n",
              " ('cannot', 25),\n",
              " ('pray', 25),\n",
              " ('osr.', 25),\n",
              " ('does', 25),\n",
              " ('that,', 26),\n",
              " ('father', 26),\n",
              " ('hold', 26),\n",
              " ('into', 27),\n",
              " ('been', 27),\n",
              " ('were', 27),\n",
              " ('him,', 27),\n",
              " ('doth', 28),\n",
              " ('hamlet,', 28),\n",
              " ('made', 28),\n",
              " ('now,', 28),\n",
              " ('hamlet', 28),\n",
              " ('dear', 28),\n",
              " ('no,', 29),\n",
              " ('guil.', 29),\n",
              " ('up', 29),\n",
              " ('might', 29),\n",
              " ('me,', 30),\n",
              " ('could', 30),\n",
              " ('mar.', 31),\n",
              " ('thus', 31),\n",
              " ('why', 31),\n",
              " ('why,', 31),\n",
              " ('see', 31),\n",
              " ('lord?', 31),\n",
              " ('look', 32),\n",
              " ('whose', 32),\n",
              " ('him.', 32),\n",
              " ('can', 32),\n",
              " ('well', 32),\n",
              " ('say', 33),\n",
              " ('who', 33),\n",
              " ('man', 33),\n",
              " ('clown.', 33),\n",
              " ('come,', 34),\n",
              " ('it.', 34),\n",
              " ('time', 34),\n",
              " ('one', 34),\n",
              " ('me.', 35),\n",
              " ('thee', 35),\n",
              " ('too', 35),\n",
              " ('take', 36),\n",
              " ('own', 36),\n",
              " ('ay,', 36),\n",
              " ('you.', 36),\n",
              " ('nor', 37),\n",
              " ('here', 37),\n",
              " ('it,', 38),\n",
              " ('yet', 38),\n",
              " ('think', 39),\n",
              " ('love', 39),\n",
              " ('then', 39),\n",
              " ('tell', 40),\n",
              " ('sir,', 40),\n",
              " ('speak', 42),\n",
              " ('king', 43),\n",
              " ('them', 43),\n",
              " ('these', 44),\n",
              " ('out', 44),\n",
              " ('had', 44),\n",
              " ('she', 44),\n",
              " ('much', 45),\n",
              " ('ros.', 45),\n",
              " ('us', 46),\n",
              " ('where', 50),\n",
              " ('than', 50),\n",
              " ('go', 50),\n",
              " ('o', 50),\n",
              " ('there', 52),\n",
              " ('upon', 53),\n",
              " ('make', 53),\n",
              " ('some', 53),\n",
              " ('now', 54),\n",
              " ('am', 54),\n",
              " ('come', 54),\n",
              " ('such', 54),\n",
              " ('when', 55),\n",
              " ('you,', 55),\n",
              " ('should', 55),\n",
              " ('an', 56),\n",
              " (\"i'll\", 56),\n",
              " ('know', 57),\n",
              " ('which', 57),\n",
              " ('their', 57),\n",
              " ('give', 58),\n",
              " ('oph.', 58),\n",
              " ('o,', 59),\n",
              " ('did', 59),\n",
              " ('must', 60),\n",
              " ('laer.', 62),\n",
              " ('hath', 63),\n",
              " ('very', 64),\n",
              " ('lord.', 65),\n",
              " ('may', 66),\n",
              " ('enter', 69),\n",
              " (\"'tis\", 71),\n",
              " (\"th'\", 71),\n",
              " ('like', 74),\n",
              " ('more', 74),\n",
              " ('would', 75),\n",
              " ('was', 76),\n",
              " ('her', 76),\n",
              " ('queen.', 80),\n",
              " ('most', 82),\n",
              " ('lord,', 83),\n",
              " ('thy', 86),\n",
              " ('pol.', 86),\n",
              " ('how', 87),\n",
              " ('from', 94),\n",
              " ('let', 95),\n",
              " ('all', 95),\n",
              " ('good', 97),\n",
              " ('thou', 97),\n",
              " ('they', 98),\n",
              " ('no', 106),\n",
              " ('hor.', 108),\n",
              " ('shall', 108),\n",
              " ('if', 111),\n",
              " ('or', 114),\n",
              " ('king.', 119),\n",
              " ('our', 120),\n",
              " ('him', 121),\n",
              " ('are', 128),\n",
              " ('do', 131),\n",
              " ('we', 136),\n",
              " ('so', 139),\n",
              " ('will', 151),\n",
              " ('have', 176),\n",
              " ('what', 190),\n",
              " ('he', 200),\n",
              " ('be', 204),\n",
              " ('as', 214),\n",
              " ('your', 242),\n",
              " ('this', 253),\n",
              " ('but', 254),\n",
              " ('with', 267),\n",
              " ('not', 274),\n",
              " ('his', 302),\n",
              " ('is', 327),\n",
              " ('it', 327),\n",
              " ('that', 343),\n",
              " ('ham.', 358),\n",
              " ('my', 519),\n",
              " ('i', 523),\n",
              " ('to', 727),\n",
              " ('and', 939)]"
            ]
          },
          "metadata": {
            "tags": []
          },
          "execution_count": 33
        }
      ]
    },
    {
      "cell_type": "markdown",
      "metadata": {
        "id": "ETcPE2bFwYKI"
      },
      "source": [
        "### Putting it all together \n",
        "\n",
        "Combine the above code as a function and pass three works of Shakespeare (`'romeandjuliet.txt'`, `'hamlet.txt'`, `'othello.txt'`). Observe the frequency of stop words. Repeat the same exercise for three works of Jane Austin (`'senseandsensibility.txt'`, `'prideandprejudice.txt'` and `'emma.txt'`). \n",
        "\n",
        "> Can you recognize the writing styles of these authors based on their use of stop words?\n",
        "> What can you do to improve the style recognition ability?"
      ]
    },
    {
      "cell_type": "code",
      "metadata": {
        "id": "SqcHg87GwYKI",
        "outputId": "34a7f22d-8f5c-4caf-98df-3e62b2afa2d3",
        "colab": {
          "base_uri": "https://localhost:8080/",
          "height": 173
        }
      },
      "source": [
        "# Create a function for word count that takes in a file name and stop wordlist to perform above tasks\n",
        "def wordCount(file, stop):\n",
        "  lines = sc.textFile(file)\n",
        "  flat_lines = lines.flatMap(lambda x: x.split(' '))\n",
        "  tuples = flat_lines.map(lambda x: (x.lower(), 1))\n",
        "  word_count = tuples.reduceByKey(lambda x,y: x+y)\n",
        "  common = word_count.filter(lambda x: x[1] >= 5)\n",
        "  stop_words = common.filter(lambda x: x[0] in stop)\n",
        "  return sorted(stop_words.collect(), key=lambda x: x[1], reverse=True)\n",
        "\n",
        "\n",
        "print('Othello\\n', wordCount('othello.txt', stop))\n",
        "print('Hamlet\\n', wordCount('hamlet.txt', stop))\n",
        "print('Pride\\n', wordCount('prideandprejudice.txt', stop))\n",
        "print('Pride\\n', wordCount('emma.txt', stop))"
      ],
      "execution_count": 43,
      "outputs": [
        {
          "output_type": "stream",
          "text": [
            "Othello\n",
            " [('', 4229), ('the', 812), ('of', 538), ('a', 472), ('you', 449), ('in', 326), ('for', 255), ('me', 190), ('by', 124), ('on', 105), ('at', 75)]\n",
            "Hamlet\n",
            " [('', 20383), ('the', 1083), ('of', 670), ('a', 540), ('you', 433), ('in', 420), ('for', 231), ('me', 144), ('by', 111), ('on', 108), ('at', 87)]\n",
            "Pride\n",
            " [('', 6539), ('the', 4490), ('of', 3703), ('a', 1971), ('in', 1895), ('you', 1099), ('for', 1035), ('at', 785), ('on', 685), ('by', 648), ('me', 257)]\n",
            "Pride\n",
            " [('the', 5269), ('of', 4312), ('', 3322), ('a', 3098), ('in', 2139), ('you', 1588), ('for', 1267), ('at', 1020), ('on', 632), ('by', 574), ('me', 314)]\n"
          ],
          "name": "stdout"
        }
      ]
    },
    {
      "cell_type": "markdown",
      "metadata": {
        "id": "N9t-fUJ4wYKL"
      },
      "source": [
        "## Level Up (Optional)\n",
        "\n",
        "* Create histograms of the top 50 words from each author\n",
        "\n",
        "\n",
        "## Summary \n",
        "\n",
        "In this simple exercise, we saw MapReduce in action for solving a basic NLP task, i.e. counting the frequency of stop words and keep words of a text corpus. This exercise can be seen as a first step towards text analytics on big data platforms. After this lab, we will get into more advanced use cases of PySpark, specifically for machine learning applications. "
      ]
    },
    {
      "cell_type": "code",
      "metadata": {
        "id": "ajq1GL_qxEi_",
        "outputId": "572a8e64-6141-4095-db55-b53984168825",
        "colab": {
          "base_uri": "https://localhost:8080/",
          "height": 717
        }
      },
      "source": [
        "\n",
        "\n",
        "def get_top50(file):\n",
        "  lines = sc.textFile(file)\n",
        "  flat_lines = lines.flatMap(lambda x: x.split(' '))\n",
        "  tuples = flat_lines.map(lambda x: (x.lower(), 1))\n",
        "  word_count = tuples.reduceByKey(lambda x,y: x+y)\n",
        "  common = word_count.filter(lambda x: x[1] >= 5)\n",
        "  stop_words = common.filter(lambda x: x[0] not in stop)\n",
        "  all = sorted(stop_words.collect(), key=lambda x: x[1], reverse=True)\n",
        "  top = all[:50]\n",
        "  return top\n",
        "\n",
        "\n",
        "emma = get_top50('emma.txt')\n",
        "\n",
        "\n",
        "\n",
        "import pandas as pd\n",
        "import matplotlib.pyplot as plt\n",
        "\n",
        "\n",
        "df = pd.DataFrame(emma, columns=['word', 'frequency'])\n",
        "df.plot.barh(x='word', figsize=[12,12])\n"
      ],
      "execution_count": 51,
      "outputs": [
        {
          "output_type": "execute_result",
          "data": {
            "text/plain": [
              "<matplotlib.axes._subplots.AxesSubplot at 0x7fef05367908>"
            ]
          },
          "metadata": {
            "tags": []
          },
          "execution_count": 51
        },
        {
          "output_type": "display_data",
          "data": {
            "image/png": "[encoded data removed]",
            "text/plain": [
              "<Figure size 864x864 with 1 Axes>"
            ]
          },
          "metadata": {
            "tags": [],
            "needs_background": "light"
          }
        }
      ]
    },
    {
      "cell_type": "code",
      "metadata": {
        "id": "bFAERDKEV25R"
      },
      "source": [
        ""
      ],
      "execution_count": null,
      "outputs": []
    }
  ]
}